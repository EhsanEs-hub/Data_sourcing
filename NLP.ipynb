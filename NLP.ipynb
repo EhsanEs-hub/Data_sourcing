{
  "nbformat": 4,
  "nbformat_minor": 0,
  "metadata": {
    "colab": {
      "name": "NLP.ipynb",
      "provenance": [],
      "collapsed_sections": [],
      "authorship_tag": "ABX9TyO8lOONNPwztuIK9cGaM4dw",
      "include_colab_link": true
    },
    "kernelspec": {
      "name": "python3",
      "display_name": "Python 3"
    }
  },
  "cells": [
    {
      "cell_type": "markdown",
      "metadata": {
        "id": "view-in-github",
        "colab_type": "text"
      },
      "source": [
        "<a href=\"https://colab.research.google.com/github/EhsanEs-hub/Data_sourcing/blob/master/NLP.ipynb\" target=\"_parent\"><img src=\"https://colab.research.google.com/assets/colab-badge.svg\" alt=\"Open In Colab\"/></a>"
      ]
    },
    {
      "cell_type": "code",
      "metadata": {
        "id": "ZpQAY84xIcsz",
        "colab_type": "code",
        "colab": {}
      },
      "source": [
        "import nltk\n",
        "import matplotlib.pyplot as plt"
      ],
      "execution_count": 35,
      "outputs": []
    },
    {
      "cell_type": "code",
      "metadata": {
        "id": "lDwX-_QNI3MK",
        "colab_type": "code",
        "colab": {
          "base_uri": "https://localhost:8080/",
          "height": 68
        },
        "outputId": "64fb976f-36c3-49cc-f4c0-8d701006260b"
      },
      "source": [
        "nltk.download('punkt')"
      ],
      "execution_count": 3,
      "outputs": [
        {
          "output_type": "stream",
          "text": [
            "[nltk_data] Downloading package punkt to /root/nltk_data...\n",
            "[nltk_data]   Unzipping tokenizers/punkt.zip.\n"
          ],
          "name": "stdout"
        },
        {
          "output_type": "execute_result",
          "data": {
            "text/plain": [
              "True"
            ]
          },
          "metadata": {
            "tags": []
          },
          "execution_count": 3
        }
      ]
    },
    {
      "cell_type": "code",
      "metadata": {
        "id": "VdRoGRslHAfB",
        "colab_type": "code",
        "colab": {}
      },
      "source": [
        "text = \"Neuro-linguistic programming was developed in the 1970s at the University of California, Santa Cruz. Its primary founders are John Grinder, a linguist, and Richard Bandler, an information scientist and mathematician. Judith DeLozier and Leslie Cameron-Bandler also contributed significantly to the field, as did David Gordon and Robert Dilts.Grinder and Bandler's first book on NLP, Structure of Magic: A Book about Language of Therapy, was released in 1975. In this publication, they attempted to highlight certain patterns of communication that set communicators considered to be excellent apart from others. Much of the book was based on the work of Virginia Satir, Fritz Perls, and Milton Erickson. It also integrated techniques and theories from other renowned mental health professionals and researchers such as Noam Chomsky, Gregory Bateson, Carlos Castaneda, and Alfred Korzybski. The result of Grinder and Bandler's work was the development of the NLP meta model, a technique they believed could identify language patterns that reflected basic cognitive processes.\""
      ],
      "execution_count": 4,
      "outputs": []
    },
    {
      "cell_type": "markdown",
      "metadata": {
        "id": "Ijcvf6uRJW0-",
        "colab_type": "text"
      },
      "source": [
        " **Sentence tokenizer** :"
      ]
    },
    {
      "cell_type": "code",
      "metadata": {
        "id": "A4D9iFzjKQwa",
        "colab_type": "code",
        "colab": {
          "base_uri": "https://localhost:8080/",
          "height": 88
        },
        "outputId": "ffd37d9a-06d0-43c8-a681-0cbd1480ce35"
      },
      "source": [
        "from nltk.tokenize import sent_tokenize\n",
        "sent_tk = sent_tokenize(text)\n",
        "print(\"sentence tokenizing the text : \\n\")\n",
        "print(sent_tk)"
      ],
      "execution_count": 5,
      "outputs": [
        {
          "output_type": "stream",
          "text": [
            "sentence tokenizing the text : \n",
            "\n",
            "['Neuro-linguistic programming was developed in the 1970s at the University of California, Santa Cruz.', 'Its primary founders are John Grinder, a linguist, and Richard Bandler, an information scientist and mathematician.', \"Judith DeLozier and Leslie Cameron-Bandler also contributed significantly to the field, as did David Gordon and Robert Dilts.Grinder and Bandler's first book on NLP, Structure of Magic: A Book about Language of Therapy, was released in 1975.\", 'In this publication, they attempted to highlight certain patterns of communication that set communicators considered to be excellent apart from others.', 'Much of the book was based on the work of Virginia Satir, Fritz Perls, and Milton Erickson.', 'It also integrated techniques and theories from other renowned mental health professionals and researchers such as Noam Chomsky, Gregory Bateson, Carlos Castaneda, and Alfred Korzybski.', \"The result of Grinder and Bandler's work was the development of the NLP meta model, a technique they believed could identify language patterns that reflected basic cognitive processes.\"]\n"
          ],
          "name": "stdout"
        }
      ]
    },
    {
      "cell_type": "markdown",
      "metadata": {
        "colab_type": "text",
        "id": "0oHH3heLMz4w"
      },
      "source": [
        " **Word tokenizer** :"
      ]
    },
    {
      "cell_type": "code",
      "metadata": {
        "colab_type": "code",
        "id": "l3i7mqRUM-3p",
        "colab": {
          "base_uri": "https://localhost:8080/",
          "height": 88
        },
        "outputId": "7cbf548e-2d92-4c9c-8e01-bd12d860c249"
      },
      "source": [
        "from nltk.tokenize import word_tokenize\n",
        "word_tk = word_tokenize(text)\n",
        "print(\"word tokenizing the text : \\n\")\n",
        "print(word_tk)"
      ],
      "execution_count": 6,
      "outputs": [
        {
          "output_type": "stream",
          "text": [
            "word tokenizing the text : \n",
            "\n",
            "['Neuro-linguistic', 'programming', 'was', 'developed', 'in', 'the', '1970s', 'at', 'the', 'University', 'of', 'California', ',', 'Santa', 'Cruz', '.', 'Its', 'primary', 'founders', 'are', 'John', 'Grinder', ',', 'a', 'linguist', ',', 'and', 'Richard', 'Bandler', ',', 'an', 'information', 'scientist', 'and', 'mathematician', '.', 'Judith', 'DeLozier', 'and', 'Leslie', 'Cameron-Bandler', 'also', 'contributed', 'significantly', 'to', 'the', 'field', ',', 'as', 'did', 'David', 'Gordon', 'and', 'Robert', 'Dilts.Grinder', 'and', 'Bandler', \"'s\", 'first', 'book', 'on', 'NLP', ',', 'Structure', 'of', 'Magic', ':', 'A', 'Book', 'about', 'Language', 'of', 'Therapy', ',', 'was', 'released', 'in', '1975', '.', 'In', 'this', 'publication', ',', 'they', 'attempted', 'to', 'highlight', 'certain', 'patterns', 'of', 'communication', 'that', 'set', 'communicators', 'considered', 'to', 'be', 'excellent', 'apart', 'from', 'others', '.', 'Much', 'of', 'the', 'book', 'was', 'based', 'on', 'the', 'work', 'of', 'Virginia', 'Satir', ',', 'Fritz', 'Perls', ',', 'and', 'Milton', 'Erickson', '.', 'It', 'also', 'integrated', 'techniques', 'and', 'theories', 'from', 'other', 'renowned', 'mental', 'health', 'professionals', 'and', 'researchers', 'such', 'as', 'Noam', 'Chomsky', ',', 'Gregory', 'Bateson', ',', 'Carlos', 'Castaneda', ',', 'and', 'Alfred', 'Korzybski', '.', 'The', 'result', 'of', 'Grinder', 'and', 'Bandler', \"'s\", 'work', 'was', 'the', 'development', 'of', 'the', 'NLP', 'meta', 'model', ',', 'a', 'technique', 'they', 'believed', 'could', 'identify', 'language', 'patterns', 'that', 'reflected', 'basic', 'cognitive', 'processes', '.']\n"
          ],
          "name": "stdout"
        }
      ]
    },
    {
      "cell_type": "markdown",
      "metadata": {
        "id": "-JDywbqMOl0e",
        "colab_type": "text"
      },
      "source": [
        "Removing **stop words**"
      ]
    },
    {
      "cell_type": "code",
      "metadata": {
        "id": "DMYxwKN6O1Ax",
        "colab_type": "code",
        "colab": {
          "base_uri": "https://localhost:8080/",
          "height": 68
        },
        "outputId": "443a8498-6cb2-4746-ea66-29523f15bd15"
      },
      "source": [
        "nltk.download('stopwords')"
      ],
      "execution_count": 7,
      "outputs": [
        {
          "output_type": "stream",
          "text": [
            "[nltk_data] Downloading package stopwords to /root/nltk_data...\n",
            "[nltk_data]   Unzipping corpora/stopwords.zip.\n"
          ],
          "name": "stdout"
        },
        {
          "output_type": "execute_result",
          "data": {
            "text/plain": [
              "True"
            ]
          },
          "metadata": {
            "tags": []
          },
          "execution_count": 7
        }
      ]
    },
    {
      "cell_type": "code",
      "metadata": {
        "id": "MrHedkTHPDML",
        "colab_type": "code",
        "colab": {
          "base_uri": "https://localhost:8080/",
          "height": 88
        },
        "outputId": "a7dd97ea-0c9b-4f10-ebdb-e98eabcc248e"
      },
      "source": [
        "from nltk.corpus import stopwords\n",
        "sw = set(stopwords.words(\"english\"))\n",
        "print(\"Stop words in English language are : \\n\")\n",
        "print(sw)"
      ],
      "execution_count": 8,
      "outputs": [
        {
          "output_type": "stream",
          "text": [
            "Stop words in English language are : \n",
            "\n",
            "{'been', 'can', 'further', 'him', 'their', 'couldn', 'through', 'its', 'hers', 'then', \"hadn't\", 'after', 'this', 'under', \"you'd\", 'each', \"wasn't\", 'himself', 'so', \"mightn't\", 's', 'not', 'has', 'a', 'wouldn', 'how', 'of', \"couldn't\", 'doing', 'same', 'at', 'that', 'o', 'as', 'don', 'any', 'an', 'you', 'aren', 'whom', 'isn', \"should've\", 'was', 'am', 'ourselves', 'against', 'on', 'before', 'her', 'doesn', 'we', 'itself', 'why', 'no', 're', 'the', 'when', 'than', 'won', 'own', 'with', 'because', 'being', 'and', 'now', \"weren't\", 'in', 'my', 'from', 'ours', 'ain', 'mightn', 'here', \"aren't\", 'haven', 'will', 'which', 'she', \"that'll\", 'd', 'more', 'while', 'yours', \"won't\", 'i', 'both', 'me', 'these', 'above', 't', 'again', \"shan't\", 'who', 'or', 'theirs', \"shouldn't\", 'weren', 'but', 'yourselves', \"it's\", 'below', 'over', 'your', 'they', 'up', \"mustn't\", 'for', \"you'll\", 'does', 'them', 'most', \"don't\", 'out', 'll', 'shan', 'wasn', 'once', 'there', 'our', 'it', 'had', 'very', \"she's\", 'just', 'down', 'having', 've', \"wouldn't\", 'his', 'were', \"isn't\", 'ma', 'nor', \"you're\", 'themselves', 'all', \"haven't\", 'by', 'few', 'if', \"hasn't\", 'about', 'other', 'should', 'shouldn', \"doesn't\", 'where', \"didn't\", 'hasn', 'he', 'only', 'myself', 'be', 'such', 'hadn', \"needn't\", 'off', 'is', 'until', 'didn', 'do', 'to', 'during', 'did', 'yourself', 'those', 'between', 'needn', 'into', 'herself', 'mustn', 'what', 'm', 'y', 'too', \"you've\", 'are', 'have', 'some'}\n"
          ],
          "name": "stdout"
        }
      ]
    },
    {
      "cell_type": "code",
      "metadata": {
        "id": "T5B_vCbJDNjy",
        "colab_type": "code",
        "colab": {
          "base_uri": "https://localhost:8080/",
          "height": 88
        },
        "outputId": "37835d28-ed84-4b4d-b344-163b2117ef48"
      },
      "source": [
        "filtered_stopwords = [w for w in word_tk if not w in sw]\n",
        "print(\"The text after removing stop words : \\n\")\n",
        "print(filtered_stopwords)"
      ],
      "execution_count": 11,
      "outputs": [
        {
          "output_type": "stream",
          "text": [
            "The text after removing stop words : \n",
            "\n",
            "['Neuro-linguistic', 'programming', 'developed', '1970s', 'University', 'California', ',', 'Santa', 'Cruz', '.', 'Its', 'primary', 'founders', 'John', 'Grinder', ',', 'linguist', ',', 'Richard', 'Bandler', ',', 'information', 'scientist', 'mathematician', '.', 'Judith', 'DeLozier', 'Leslie', 'Cameron-Bandler', 'also', 'contributed', 'significantly', 'field', ',', 'David', 'Gordon', 'Robert', 'Dilts.Grinder', 'Bandler', \"'s\", 'first', 'book', 'NLP', ',', 'Structure', 'Magic', ':', 'A', 'Book', 'Language', 'Therapy', ',', 'released', '1975', '.', 'In', 'publication', ',', 'attempted', 'highlight', 'certain', 'patterns', 'communication', 'set', 'communicators', 'considered', 'excellent', 'apart', 'others', '.', 'Much', 'book', 'based', 'work', 'Virginia', 'Satir', ',', 'Fritz', 'Perls', ',', 'Milton', 'Erickson', '.', 'It', 'also', 'integrated', 'techniques', 'theories', 'renowned', 'mental', 'health', 'professionals', 'researchers', 'Noam', 'Chomsky', ',', 'Gregory', 'Bateson', ',', 'Carlos', 'Castaneda', ',', 'Alfred', 'Korzybski', '.', 'The', 'result', 'Grinder', 'Bandler', \"'s\", 'work', 'development', 'NLP', 'meta', 'model', ',', 'technique', 'believed', 'could', 'identify', 'language', 'patterns', 'reflected', 'basic', 'cognitive', 'processes', '.']\n"
          ],
          "name": "stdout"
        }
      ]
    },
    {
      "cell_type": "markdown",
      "metadata": {
        "id": "QuzU1OYBF5oE",
        "colab_type": "text"
      },
      "source": [
        "**Stemming** :"
      ]
    },
    {
      "cell_type": "code",
      "metadata": {
        "id": "du8qvVEJF4kD",
        "colab_type": "code",
        "colab": {}
      },
      "source": [
        "from nltk.stem import PorterStemmer\n",
        "port_stem = PorterStemmer()"
      ],
      "execution_count": 13,
      "outputs": []
    },
    {
      "cell_type": "code",
      "metadata": {
        "id": "YvydOlneIGKZ",
        "colab_type": "code",
        "colab": {
          "base_uri": "https://localhost:8080/",
          "height": 71
        },
        "outputId": "39fa9ff3-e4bf-44b6-d48e-e1d6c0595e1d"
      },
      "source": [
        "stemmed_words = []\n",
        "for w in filtered_stopwords :\n",
        "  stemmed_words.append(port_stem.stem(w))\n",
        "\n",
        "print(\"Stemmed Sentences \\n\", stemmed_words)"
      ],
      "execution_count": 14,
      "outputs": [
        {
          "output_type": "stream",
          "text": [
            "Stemmed Sentences \n",
            " ['neuro-linguist', 'program', 'develop', '1970', 'univers', 'california', ',', 'santa', 'cruz', '.', 'it', 'primari', 'founder', 'john', 'grinder', ',', 'linguist', ',', 'richard', 'bandler', ',', 'inform', 'scientist', 'mathematician', '.', 'judith', 'delozi', 'lesli', 'cameron-bandl', 'also', 'contribut', 'significantli', 'field', ',', 'david', 'gordon', 'robert', 'dilts.grind', 'bandler', \"'s\", 'first', 'book', 'nlp', ',', 'structur', 'magic', ':', 'A', 'book', 'languag', 'therapi', ',', 'releas', '1975', '.', 'In', 'public', ',', 'attempt', 'highlight', 'certain', 'pattern', 'commun', 'set', 'commun', 'consid', 'excel', 'apart', 'other', '.', 'much', 'book', 'base', 'work', 'virginia', 'satir', ',', 'fritz', 'perl', ',', 'milton', 'erickson', '.', 'It', 'also', 'integr', 'techniqu', 'theori', 'renown', 'mental', 'health', 'profession', 'research', 'noam', 'chomski', ',', 'gregori', 'bateson', ',', 'carlo', 'castaneda', ',', 'alfr', 'korzybski', '.', 'the', 'result', 'grinder', 'bandler', \"'s\", 'work', 'develop', 'nlp', 'meta', 'model', ',', 'techniqu', 'believ', 'could', 'identifi', 'languag', 'pattern', 'reflect', 'basic', 'cognit', 'process', '.']\n"
          ],
          "name": "stdout"
        }
      ]
    },
    {
      "cell_type": "markdown",
      "metadata": {
        "id": "53QhbmfcLW7d",
        "colab_type": "text"
      },
      "source": [
        "**Lemmatizing** :"
      ]
    },
    {
      "cell_type": "code",
      "metadata": {
        "id": "YO3dc6mNLitc",
        "colab_type": "code",
        "colab": {
          "base_uri": "https://localhost:8080/",
          "height": 68
        },
        "outputId": "5937ee04-035b-48c0-9434-bd4e2642f20b"
      },
      "source": [
        "nltk.download('wordnet')"
      ],
      "execution_count": 15,
      "outputs": [
        {
          "output_type": "stream",
          "text": [
            "[nltk_data] Downloading package wordnet to /root/nltk_data...\n",
            "[nltk_data]   Unzipping corpora/wordnet.zip.\n"
          ],
          "name": "stdout"
        },
        {
          "output_type": "execute_result",
          "data": {
            "text/plain": [
              "True"
            ]
          },
          "metadata": {
            "tags": []
          },
          "execution_count": 15
        }
      ]
    },
    {
      "cell_type": "code",
      "metadata": {
        "id": "jrETVdFXLtQd",
        "colab_type": "code",
        "colab": {}
      },
      "source": [
        "from nltk.stem.wordnet import WordNetLemmatizer\n",
        "lemm = WordNetLemmatizer()"
      ],
      "execution_count": 16,
      "outputs": []
    },
    {
      "cell_type": "code",
      "metadata": {
        "id": "c3vDzOuZMMzl",
        "colab_type": "code",
        "colab": {
          "base_uri": "https://localhost:8080/",
          "height": 71
        },
        "outputId": "a92d3f29-f481-48a7-ae9c-7254d5716e8b"
      },
      "source": [
        "lemm_words = []\n",
        "for i in range(len(filtered_stopwords)) :\n",
        "  lemm_words.append(lemm.lemmatize(filtered_stopwords[i]))\n",
        "\n",
        "print(\"Lemmed Sentences \\n\", lemm_words)"
      ],
      "execution_count": 22,
      "outputs": [
        {
          "output_type": "stream",
          "text": [
            "Lemmed Sentences \n",
            " ['Neuro-linguistic', 'programming', 'developed', '1970s', 'University', 'California', ',', 'Santa', 'Cruz', '.', 'Its', 'primary', 'founder', 'John', 'Grinder', ',', 'linguist', ',', 'Richard', 'Bandler', ',', 'information', 'scientist', 'mathematician', '.', 'Judith', 'DeLozier', 'Leslie', 'Cameron-Bandler', 'also', 'contributed', 'significantly', 'field', ',', 'David', 'Gordon', 'Robert', 'Dilts.Grinder', 'Bandler', \"'s\", 'first', 'book', 'NLP', ',', 'Structure', 'Magic', ':', 'A', 'Book', 'Language', 'Therapy', ',', 'released', '1975', '.', 'In', 'publication', ',', 'attempted', 'highlight', 'certain', 'pattern', 'communication', 'set', 'communicator', 'considered', 'excellent', 'apart', 'others', '.', 'Much', 'book', 'based', 'work', 'Virginia', 'Satir', ',', 'Fritz', 'Perls', ',', 'Milton', 'Erickson', '.', 'It', 'also', 'integrated', 'technique', 'theory', 'renowned', 'mental', 'health', 'professional', 'researcher', 'Noam', 'Chomsky', ',', 'Gregory', 'Bateson', ',', 'Carlos', 'Castaneda', ',', 'Alfred', 'Korzybski', '.', 'The', 'result', 'Grinder', 'Bandler', \"'s\", 'work', 'development', 'NLP', 'meta', 'model', ',', 'technique', 'believed', 'could', 'identify', 'language', 'pattern', 'reflected', 'basic', 'cognitive', 'process', '.']\n"
          ],
          "name": "stdout"
        }
      ]
    },
    {
      "cell_type": "code",
      "metadata": {
        "colab_type": "code",
        "id": "bTj_GlJJQhJa",
        "colab": {
          "base_uri": "https://localhost:8080/",
          "height": 71
        },
        "outputId": "295c7401-4c55-408e-dd80-c0df5fc9d200"
      },
      "source": [
        "lem_words = []\n",
        "for w in filtered_stopwords :\n",
        "  lem_words.append(lemm.lemmatize(w))\n",
        "\n",
        "print(\"Lemmed Sentences \\n\", lem_words)"
      ],
      "execution_count": 24,
      "outputs": [
        {
          "output_type": "stream",
          "text": [
            "Lemmed Sentences \n",
            " ['Neuro-linguistic', 'programming', 'developed', '1970s', 'University', 'California', ',', 'Santa', 'Cruz', '.', 'Its', 'primary', 'founder', 'John', 'Grinder', ',', 'linguist', ',', 'Richard', 'Bandler', ',', 'information', 'scientist', 'mathematician', '.', 'Judith', 'DeLozier', 'Leslie', 'Cameron-Bandler', 'also', 'contributed', 'significantly', 'field', ',', 'David', 'Gordon', 'Robert', 'Dilts.Grinder', 'Bandler', \"'s\", 'first', 'book', 'NLP', ',', 'Structure', 'Magic', ':', 'A', 'Book', 'Language', 'Therapy', ',', 'released', '1975', '.', 'In', 'publication', ',', 'attempted', 'highlight', 'certain', 'pattern', 'communication', 'set', 'communicator', 'considered', 'excellent', 'apart', 'others', '.', 'Much', 'book', 'based', 'work', 'Virginia', 'Satir', ',', 'Fritz', 'Perls', ',', 'Milton', 'Erickson', '.', 'It', 'also', 'integrated', 'technique', 'theory', 'renowned', 'mental', 'health', 'professional', 'researcher', 'Noam', 'Chomsky', ',', 'Gregory', 'Bateson', ',', 'Carlos', 'Castaneda', ',', 'Alfred', 'Korzybski', '.', 'The', 'result', 'Grinder', 'Bandler', \"'s\", 'work', 'development', 'NLP', 'meta', 'model', ',', 'technique', 'believed', 'could', 'identify', 'language', 'pattern', 'reflected', 'basic', 'cognitive', 'process', '.']\n"
          ],
          "name": "stdout"
        }
      ]
    },
    {
      "cell_type": "markdown",
      "metadata": {
        "id": "0l2XNiL6RQYu",
        "colab_type": "text"
      },
      "source": [
        "Parts of **Speech Tagging** :"
      ]
    },
    {
      "cell_type": "code",
      "metadata": {
        "id": "A02moR-tTKRA",
        "colab_type": "code",
        "colab": {
          "base_uri": "https://localhost:8080/",
          "height": 85
        },
        "outputId": "1b57ad05-bca7-4411-b0a6-fdbb1f527541"
      },
      "source": [
        "nltk.download('averaged_perceptron_tagger')"
      ],
      "execution_count": 26,
      "outputs": [
        {
          "output_type": "stream",
          "text": [
            "[nltk_data] Downloading package averaged_perceptron_tagger to\n",
            "[nltk_data]     /root/nltk_data...\n",
            "[nltk_data]   Unzipping taggers/averaged_perceptron_tagger.zip.\n"
          ],
          "name": "stdout"
        },
        {
          "output_type": "execute_result",
          "data": {
            "text/plain": [
              "True"
            ]
          },
          "metadata": {
            "tags": []
          },
          "execution_count": 26
        }
      ]
    },
    {
      "cell_type": "code",
      "metadata": {
        "id": "MywlzfAJSUOn",
        "colab_type": "code",
        "colab": {
          "base_uri": "https://localhost:8080/",
          "height": 54
        },
        "outputId": "0c325316-58e4-4ef2-8427-8ba28cadf441"
      },
      "source": [
        "from nltk import pos_tag\n",
        "pos_tagged_words = pos_tag(word_tk)\n",
        "\n",
        "print(pos_tagged_words)"
      ],
      "execution_count": 27,
      "outputs": [
        {
          "output_type": "stream",
          "text": [
            "[('Neuro-linguistic', 'JJ'), ('programming', 'NN'), ('was', 'VBD'), ('developed', 'VBN'), ('in', 'IN'), ('the', 'DT'), ('1970s', 'CD'), ('at', 'IN'), ('the', 'DT'), ('University', 'NNP'), ('of', 'IN'), ('California', 'NNP'), (',', ','), ('Santa', 'NNP'), ('Cruz', 'NNP'), ('.', '.'), ('Its', 'PRP$'), ('primary', 'JJ'), ('founders', 'NNS'), ('are', 'VBP'), ('John', 'NNP'), ('Grinder', 'NNP'), (',', ','), ('a', 'DT'), ('linguist', 'NN'), (',', ','), ('and', 'CC'), ('Richard', 'NNP'), ('Bandler', 'NNP'), (',', ','), ('an', 'DT'), ('information', 'NN'), ('scientist', 'NN'), ('and', 'CC'), ('mathematician', 'NN'), ('.', '.'), ('Judith', 'NNP'), ('DeLozier', 'NNP'), ('and', 'CC'), ('Leslie', 'NNP'), ('Cameron-Bandler', 'NNP'), ('also', 'RB'), ('contributed', 'VBD'), ('significantly', 'RB'), ('to', 'TO'), ('the', 'DT'), ('field', 'NN'), (',', ','), ('as', 'IN'), ('did', 'VBD'), ('David', 'NNP'), ('Gordon', 'NNP'), ('and', 'CC'), ('Robert', 'NNP'), ('Dilts.Grinder', 'NNP'), ('and', 'CC'), ('Bandler', 'NNP'), (\"'s\", 'POS'), ('first', 'JJ'), ('book', 'NN'), ('on', 'IN'), ('NLP', 'NNP'), (',', ','), ('Structure', 'NNP'), ('of', 'IN'), ('Magic', 'NNP'), (':', ':'), ('A', 'DT'), ('Book', 'NNP'), ('about', 'IN'), ('Language', 'NNP'), ('of', 'IN'), ('Therapy', 'NNP'), (',', ','), ('was', 'VBD'), ('released', 'VBN'), ('in', 'IN'), ('1975', 'CD'), ('.', '.'), ('In', 'IN'), ('this', 'DT'), ('publication', 'NN'), (',', ','), ('they', 'PRP'), ('attempted', 'VBD'), ('to', 'TO'), ('highlight', 'VB'), ('certain', 'JJ'), ('patterns', 'NNS'), ('of', 'IN'), ('communication', 'NN'), ('that', 'WDT'), ('set', 'VBD'), ('communicators', 'NNS'), ('considered', 'VBN'), ('to', 'TO'), ('be', 'VB'), ('excellent', 'JJ'), ('apart', 'RB'), ('from', 'IN'), ('others', 'NNS'), ('.', '.'), ('Much', 'RB'), ('of', 'IN'), ('the', 'DT'), ('book', 'NN'), ('was', 'VBD'), ('based', 'VBN'), ('on', 'IN'), ('the', 'DT'), ('work', 'NN'), ('of', 'IN'), ('Virginia', 'NNP'), ('Satir', 'NNP'), (',', ','), ('Fritz', 'NNP'), ('Perls', 'NNP'), (',', ','), ('and', 'CC'), ('Milton', 'NNP'), ('Erickson', 'NNP'), ('.', '.'), ('It', 'PRP'), ('also', 'RB'), ('integrated', 'VBD'), ('techniques', 'NNS'), ('and', 'CC'), ('theories', 'NNS'), ('from', 'IN'), ('other', 'JJ'), ('renowned', 'JJ'), ('mental', 'JJ'), ('health', 'NN'), ('professionals', 'NNS'), ('and', 'CC'), ('researchers', 'NNS'), ('such', 'JJ'), ('as', 'IN'), ('Noam', 'NNP'), ('Chomsky', 'NNP'), (',', ','), ('Gregory', 'NNP'), ('Bateson', 'NNP'), (',', ','), ('Carlos', 'NNP'), ('Castaneda', 'NNP'), (',', ','), ('and', 'CC'), ('Alfred', 'NNP'), ('Korzybski', 'NNP'), ('.', '.'), ('The', 'DT'), ('result', 'NN'), ('of', 'IN'), ('Grinder', 'NNP'), ('and', 'CC'), ('Bandler', 'NNP'), (\"'s\", 'POS'), ('work', 'NN'), ('was', 'VBD'), ('the', 'DT'), ('development', 'NN'), ('of', 'IN'), ('the', 'DT'), ('NLP', 'NNP'), ('meta', 'NN'), ('model', 'NN'), (',', ','), ('a', 'DT'), ('technique', 'NN'), ('they', 'PRP'), ('believed', 'VBD'), ('could', 'MD'), ('identify', 'VB'), ('language', 'NN'), ('patterns', 'NNS'), ('that', 'WDT'), ('reflected', 'VBD'), ('basic', 'JJ'), ('cognitive', 'JJ'), ('processes', 'NNS'), ('.', '.')]\n"
          ],
          "name": "stdout"
        }
      ]
    },
    {
      "cell_type": "markdown",
      "metadata": {
        "id": "ZyE9ggcuULBc",
        "colab_type": "text"
      },
      "source": [
        "**Frequency Distribution** Plots :"
      ]
    },
    {
      "cell_type": "code",
      "metadata": {
        "id": "t-lKbIsEUcN1",
        "colab_type": "code",
        "colab": {
          "base_uri": "https://localhost:8080/",
          "height": 328
        },
        "outputId": "fe90cef0-0c0e-46b0-d5fc-abc442ae8b90"
      },
      "source": [
        "from nltk.probability import FreqDist\n",
        "fd = FreqDist(word_tk)\n",
        "print(fd)\n",
        "fd.plot(20, cumulative = False)\n",
        "plt.show()"
      ],
      "execution_count": 37,
      "outputs": [
        {
          "output_type": "stream",
          "text": [
            "<FreqDist with 120 samples and 182 outcomes>\n"
          ],
          "name": "stdout"
        },
        {
          "output_type": "display_data",
          "data": {
            "image/png": "[encoded data removed]",
            "text/plain": [
              "<Figure size 432x288 with 1 Axes>"
            ]
          },
          "metadata": {
            "tags": [],
            "needs_background": "light"
          }
        }
      ]
    },
    {
      "cell_type": "code",
      "metadata": {
        "id": "etBrlrPvXqkl",
        "colab_type": "code",
        "colab": {
          "base_uri": "https://localhost:8080/",
          "height": 296
        },
        "outputId": "ae822fec-277b-4405-f897-0e8d365d4846"
      },
      "source": [
        "fd_alpha = FreqDist(text)\n",
        "print(fd_alpha)\n",
        "fd_alpha.plot(20, cumulative = False)\n",
        "plt.show()"
      ],
      "execution_count": 36,
      "outputs": [
        {
          "output_type": "stream",
          "text": [
            "<FreqDist with 55 samples and 1073 outcomes>\n"
          ],
          "name": "stdout"
        },
        {
          "output_type": "display_data",
          "data": {
            "image/png": "[encoded data removed]",
            "text/plain": [
              "<Figure size 432x288 with 1 Axes>"
            ]
          },
          "metadata": {
            "tags": [],
            "needs_background": "light"
          }
        }
      ]
    }
  ]
}